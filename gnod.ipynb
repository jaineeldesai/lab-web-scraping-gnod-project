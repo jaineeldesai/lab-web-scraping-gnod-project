{
 "cells": [
  {
   "cell_type": "code",
   "execution_count": 1,
   "id": "d889047c",
   "metadata": {},
   "outputs": [],
   "source": [
    "import pandas as pd\n",
    "import numpy as np\n",
    "from bs4 import BeautifulSoup\n",
    "import requests"
   ]
  },
  {
   "cell_type": "code",
   "execution_count": 2,
   "id": "382f3c9b",
   "metadata": {},
   "outputs": [
    {
     "data": {
      "text/plain": [
       "200"
      ]
     },
     "execution_count": 2,
     "metadata": {},
     "output_type": "execute_result"
    }
   ],
   "source": [
    "url=\"https://www.popvortex.com/music/charts/top-100-songs.php\"\n",
    "response = requests.get(url)\n",
    "response.status_code"
   ]
  },
  {
   "cell_type": "code",
   "execution_count": 3,
   "id": "4ce2faf9",
   "metadata": {},
   "outputs": [],
   "source": [
    "soup = BeautifulSoup(response.content, \"html.parser\")"
   ]
  },
  {
   "cell_type": "code",
   "execution_count": 4,
   "id": "b8f94e1d",
   "metadata": {},
   "outputs": [],
   "source": [
    "#soup.select('body > div.container > div:nth-child(4) > div.col-xs-12.col-md-8 > div.chart-wrapper > div.feed-item > div.chart-content > p > cite')"
   ]
  },
  {
   "cell_type": "code",
   "execution_count": 5,
   "id": "5202904a",
   "metadata": {
    "scrolled": true
   },
   "outputs": [],
   "source": [
    "name=[]\n",
    "for i in soup.select('body > div.container > div:nth-child(4) > div.col-xs-12.col-md-8 > div.chart-wrapper > div.feed-item > div.chart-content > p > cite'):\n",
    "    name.append(i.get_text().strip())\n"
   ]
  },
  {
   "cell_type": "code",
   "execution_count": 6,
   "id": "49081222",
   "metadata": {},
   "outputs": [],
   "source": [
    "#soup.select('body > div.container > div:nth-child(4) > div.col-xs-12.col-md-8 > div.chart-wrapper > div.feed-item > div.chart-content > p > em')"
   ]
  },
  {
   "cell_type": "code",
   "execution_count": 7,
   "id": "1d1bda2e",
   "metadata": {},
   "outputs": [],
   "source": [
    "artist=[]\n",
    "\n",
    "for a in soup.select('body > div.container > div:nth-child(4) > div.col-xs-12.col-md-8 > div.chart-wrapper > div.feed-item > div.chart-content > p > em'):\n",
    "    artist.append(a.get_text().strip())"
   ]
  },
  {
   "cell_type": "code",
   "execution_count": 8,
   "id": "3abf56a0",
   "metadata": {},
   "outputs": [
    {
     "data": {
      "text/html": [
       "<div>\n",
       "<style scoped>\n",
       "    .dataframe tbody tr th:only-of-type {\n",
       "        vertical-align: middle;\n",
       "    }\n",
       "\n",
       "    .dataframe tbody tr th {\n",
       "        vertical-align: top;\n",
       "    }\n",
       "\n",
       "    .dataframe thead th {\n",
       "        text-align: right;\n",
       "    }\n",
       "</style>\n",
       "<table border=\"1\" class=\"dataframe\">\n",
       "  <thead>\n",
       "    <tr style=\"text-align: right;\">\n",
       "      <th></th>\n",
       "      <th>song</th>\n",
       "      <th>artist</th>\n",
       "    </tr>\n",
       "  </thead>\n",
       "  <tbody>\n",
       "    <tr>\n",
       "      <th>0</th>\n",
       "      <td>Margaritaville</td>\n",
       "      <td>Jimmy Buffett</td>\n",
       "    </tr>\n",
       "    <tr>\n",
       "      <th>1</th>\n",
       "      <td>Come Monday</td>\n",
       "      <td>Jimmy Buffett</td>\n",
       "    </tr>\n",
       "    <tr>\n",
       "      <th>2</th>\n",
       "      <td>Rich Men North of Richmond</td>\n",
       "      <td>Oliver Anthony Music</td>\n",
       "    </tr>\n",
       "    <tr>\n",
       "      <th>3</th>\n",
       "      <td>Cheeseburger In Paradise</td>\n",
       "      <td>Jimmy Buffett</td>\n",
       "    </tr>\n",
       "    <tr>\n",
       "      <th>4</th>\n",
       "      <td>Changes In Latitudes, Changes In Attitudes</td>\n",
       "      <td>Jimmy Buffett</td>\n",
       "    </tr>\n",
       "    <tr>\n",
       "      <th>...</th>\n",
       "      <td>...</td>\n",
       "      <td>...</td>\n",
       "    </tr>\n",
       "    <tr>\n",
       "      <th>95</th>\n",
       "      <td>Bama Breeze</td>\n",
       "      <td>Jimmy Buffett</td>\n",
       "    </tr>\n",
       "    <tr>\n",
       "      <th>96</th>\n",
       "      <td>Suddenly, One Day, There Is a Pink Love That B...</td>\n",
       "      <td>Vy Napi</td>\n",
       "    </tr>\n",
       "    <tr>\n",
       "      <th>97</th>\n",
       "      <td>Tennessee Whiskey</td>\n",
       "      <td>Chris Stapleton</td>\n",
       "    </tr>\n",
       "    <tr>\n",
       "      <th>98</th>\n",
       "      <td>august</td>\n",
       "      <td>Taylor Swift</td>\n",
       "    </tr>\n",
       "    <tr>\n",
       "      <th>99</th>\n",
       "      <td>Changes In Latitudes, Changes In Attitudes</td>\n",
       "      <td>Jimmy Buffett</td>\n",
       "    </tr>\n",
       "  </tbody>\n",
       "</table>\n",
       "<p>100 rows × 2 columns</p>\n",
       "</div>"
      ],
      "text/plain": [
       "                                                 song                artist\n",
       "0                                      Margaritaville         Jimmy Buffett\n",
       "1                                         Come Monday         Jimmy Buffett\n",
       "2                          Rich Men North of Richmond  Oliver Anthony Music\n",
       "3                            Cheeseburger In Paradise         Jimmy Buffett\n",
       "4          Changes In Latitudes, Changes In Attitudes         Jimmy Buffett\n",
       "..                                                ...                   ...\n",
       "95                                        Bama Breeze         Jimmy Buffett\n",
       "96  Suddenly, One Day, There Is a Pink Love That B...               Vy Napi\n",
       "97                                  Tennessee Whiskey       Chris Stapleton\n",
       "98                                             august          Taylor Swift\n",
       "99         Changes In Latitudes, Changes In Attitudes         Jimmy Buffett\n",
       "\n",
       "[100 rows x 2 columns]"
      ]
     },
     "execution_count": 8,
     "metadata": {},
     "output_type": "execute_result"
    }
   ],
   "source": [
    "top100=pd.DataFrame({'song':name,\n",
    "                    'artist':artist})\n",
    "top100"
   ]
  },
  {
   "cell_type": "markdown",
   "id": "cea75460",
   "metadata": {},
   "source": [
    "### Eurovision songs from 2013-2023 (not completed)"
   ]
  },
  {
   "cell_type": "code",
   "execution_count": 9,
   "id": "015aafc7",
   "metadata": {},
   "outputs": [],
   "source": [
    "url=\"https://en.wikipedia.org/wiki/List_of_Eurovision_Song_Contest_winners\"\n",
    "response = requests.get(url)\n",
    "response.status_code\n",
    "soup = BeautifulSoup(response.content, \"html.parser\")"
   ]
  },
  {
   "cell_type": "code",
   "execution_count": null,
   "id": "90fa61a6",
   "metadata": {},
   "outputs": [],
   "source": []
  },
  {
   "cell_type": "code",
   "execution_count": 10,
   "id": "9cd2b0af",
   "metadata": {},
   "outputs": [],
   "source": [
    "#mw-content-text > div.mw-parser-output > table:nth-child(13) > tbody"
   ]
  },
  {
   "cell_type": "code",
   "execution_count": 11,
   "id": "efc6d046",
   "metadata": {},
   "outputs": [
    {
     "data": {
      "text/plain": [
       "[]"
      ]
     },
     "execution_count": 11,
     "metadata": {},
     "output_type": "execute_result"
    }
   ],
   "source": [
    "soup.select('#mw-content-text > div.mw-parser-output > table:nth-child(41) > tbody')"
   ]
  },
  {
   "cell_type": "code",
   "execution_count": 12,
   "id": "d25d94f7",
   "metadata": {},
   "outputs": [],
   "source": [
    "songs_tab=soup.select('table')[0]"
   ]
  },
  {
   "cell_type": "code",
   "execution_count": 13,
   "id": "fb520581",
   "metadata": {},
   "outputs": [],
   "source": [
    "#songs_tab.select(\"td:nth-of-type(2) a\")"
   ]
  },
  {
   "cell_type": "code",
   "execution_count": 14,
   "id": "1ab72002",
   "metadata": {},
   "outputs": [],
   "source": [
    "songs=[]\n",
    "for s in songs_tab.select(\"td:nth-of-type(2) a\"):\n",
    "    songs.append(s.get_text())\n",
    "#songs"
   ]
  },
  {
   "cell_type": "code",
   "execution_count": 15,
   "id": "36ff8c38",
   "metadata": {},
   "outputs": [],
   "source": [
    "artist=[]\n",
    "#songs_tab.select(\"tr td span span.vcard span.fn a\")\n",
    "\n",
    "for a in songs_tab.select(\"td:nth-of-type(3) a\"):\n",
    "    artist.append(a.get_text())"
   ]
  },
  {
   "cell_type": "code",
   "execution_count": 16,
   "id": "905a3f1a",
   "metadata": {
    "scrolled": true
   },
   "outputs": [],
   "source": [
    "country=[]\n",
    "#songs_tab.select(\"tr td span.nowrap a\")\n",
    "\n",
    "for c in songs_tab.select(\"td:nth-of-type(1) a\"):\n",
    "    country.append(c.get_text())\n",
    "\n",
    "#country"
   ]
  },
  {
   "cell_type": "code",
   "execution_count": 17,
   "id": "1807d142",
   "metadata": {
    "scrolled": true
   },
   "outputs": [],
   "source": [
    "year=[]\n",
    "\n",
    "for y in songs_tab.select('th a'):\n",
    "    year.append(y.get_text())\n",
    "\n",
    "#year"
   ]
  },
  {
   "cell_type": "code",
   "execution_count": 18,
   "id": "0e2f29b3",
   "metadata": {},
   "outputs": [
    {
     "data": {
      "text/plain": [
       "71"
      ]
     },
     "execution_count": 18,
     "metadata": {},
     "output_type": "execute_result"
    }
   ],
   "source": [
    "len(country)"
   ]
  },
  {
   "cell_type": "code",
   "execution_count": 19,
   "id": "85433e72",
   "metadata": {},
   "outputs": [
    {
     "data": {
      "text/plain": [
       "74"
      ]
     },
     "execution_count": 19,
     "metadata": {},
     "output_type": "execute_result"
    }
   ],
   "source": [
    "len(artist)"
   ]
  },
  {
   "cell_type": "code",
   "execution_count": 20,
   "id": "8c8dc3dc",
   "metadata": {},
   "outputs": [
    {
     "data": {
      "text/plain": [
       "71"
      ]
     },
     "execution_count": 20,
     "metadata": {},
     "output_type": "execute_result"
    }
   ],
   "source": [
    "len(songs)"
   ]
  },
  {
   "cell_type": "code",
   "execution_count": 21,
   "id": "32f22cc8",
   "metadata": {},
   "outputs": [
    {
     "data": {
      "text/plain": [
       "68"
      ]
     },
     "execution_count": 21,
     "metadata": {},
     "output_type": "execute_result"
    }
   ],
   "source": [
    "len(year)"
   ]
  },
  {
   "cell_type": "code",
   "execution_count": null,
   "id": "0487056c",
   "metadata": {},
   "outputs": [],
   "source": [
    "euro_winners= pd.DataFrame({'year':year,'country':country,'song':songs,'artist':artist})"
   ]
  },
  {
   "cell_type": "code",
   "execution_count": null,
   "id": "da0a6631",
   "metadata": {},
   "outputs": [],
   "source": []
  },
  {
   "cell_type": "code",
   "execution_count": null,
   "id": "de04d1ee",
   "metadata": {},
   "outputs": [],
   "source": []
  },
  {
   "cell_type": "code",
   "execution_count": null,
   "id": "79f737c9",
   "metadata": {},
   "outputs": [],
   "source": [
    "url=\"https://eurovisiontimes.wordpress.com/specials/history/all-eurovision-winners/\"\n",
    "response = requests.get(url)\n",
    "soup = BeautifulSoup(response.content, \"html.parser\")\n",
    "\n",
    "response.status_codes"
   ]
  },
  {
   "cell_type": "code",
   "execution_count": null,
   "id": "4910bcda",
   "metadata": {},
   "outputs": [],
   "source": [
    "soup.select('#post-13181 > div > table')"
   ]
  },
  {
   "cell_type": "code",
   "execution_count": null,
   "id": "7213ca1e",
   "metadata": {},
   "outputs": [],
   "source": [
    "#songs_tab.select(\"td:nth-of-type(1) a\")"
   ]
  },
  {
   "cell_type": "code",
   "execution_count": null,
   "id": "82e7cbbc",
   "metadata": {},
   "outputs": [],
   "source": [
    "tab=soup.select('#post-13181 > div > table')[0]"
   ]
  },
  {
   "cell_type": "code",
   "execution_count": null,
   "id": "6720df07",
   "metadata": {},
   "outputs": [],
   "source": [
    "tab.select(\"td:nth-of-type(1)\")"
   ]
  },
  {
   "cell_type": "code",
   "execution_count": null,
   "id": "17b5d421",
   "metadata": {},
   "outputs": [],
   "source": []
  }
 ],
 "metadata": {
  "kernelspec": {
   "display_name": "Python 3 (ipykernel)",
   "language": "python",
   "name": "python3"
  },
  "language_info": {
   "codemirror_mode": {
    "name": "ipython",
    "version": 3
   },
   "file_extension": ".py",
   "mimetype": "text/x-python",
   "name": "python",
   "nbconvert_exporter": "python",
   "pygments_lexer": "ipython3",
   "version": "3.11.3"
  }
 },
 "nbformat": 4,
 "nbformat_minor": 5
}
