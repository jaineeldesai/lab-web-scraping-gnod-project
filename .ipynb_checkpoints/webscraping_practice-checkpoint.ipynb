{
 "cells": [
  {
   "cell_type": "code",
   "execution_count": 1,
   "id": "dff0a084",
   "metadata": {},
   "outputs": [],
   "source": [
    "import pandas as pd\n",
    "from bs4 import BeautifulSoup\n",
    "import requests"
   ]
  },
  {
   "cell_type": "markdown",
   "id": "4854c23d",
   "metadata": {},
   "source": [
    "### 1. Create a Python list with the top ten FBI's Most Wanted names: url = 'https://www.fbi.gov/wanted/topten'"
   ]
  },
  {
   "cell_type": "code",
   "execution_count": 2,
   "id": "541e9774",
   "metadata": {},
   "outputs": [
    {
     "data": {
      "text/plain": [
       "200"
      ]
     },
     "execution_count": 2,
     "metadata": {},
     "output_type": "execute_result"
    }
   ],
   "source": [
    "url = 'https://www.fbi.gov/wanted/topten'\n",
    "response=requests.get(url)\n",
    "response.status_code"
   ]
  },
  {
   "cell_type": "code",
   "execution_count": 3,
   "id": "6d5eec34",
   "metadata": {},
   "outputs": [],
   "source": [
    "#query-results-0f737222c5054a81a120bce207b0446a > ul > li:nth-child(7) > h3 > a"
   ]
  },
  {
   "cell_type": "code",
   "execution_count": 4,
   "id": "734de3f4",
   "metadata": {},
   "outputs": [],
   "source": [
    "soup=BeautifulSoup(response.content,\"html.parser\")"
   ]
  },
  {
   "cell_type": "code",
   "execution_count": 5,
   "id": "65264841",
   "metadata": {},
   "outputs": [],
   "source": [
    "#soup.select('#query-results-0f737222c5054a81a120bce207b0446a > ul > li> h3 > a')"
   ]
  },
  {
   "cell_type": "code",
   "execution_count": 6,
   "id": "7513b74e",
   "metadata": {},
   "outputs": [
    {
     "data": {
      "text/plain": [
       "['ALEJANDRO ROSALES CASTILLO',\n",
       " 'RUJA IGNATOVA',\n",
       " 'DONALD EUGENE FIELDS II',\n",
       " 'ALEXIS FLORES',\n",
       " 'ARNOLDO JIMENEZ',\n",
       " 'OMAR ALEXANDER CARDENAS',\n",
       " 'YULAN ADONAY ARCHAGA CARIAS',\n",
       " 'BHADRESHKUMAR CHETANBHAI PATEL',\n",
       " 'WILVER VILLEGAS-PALOMINO',\n",
       " 'JOSE RODOLFO VILLARREAL-HERNANDEZ']"
      ]
     },
     "execution_count": 6,
     "metadata": {},
     "output_type": "execute_result"
    }
   ],
   "source": [
    "most_wanted=[]\n",
    "\n",
    "for mw in soup.select('#query-results-0f737222c5054a81a120bce207b0446a > ul > li> h3 > a'):\n",
    "    most_wanted.append(mw.get_text())\n",
    "    \n",
    "most_wanted"
   ]
  },
  {
   "cell_type": "markdown",
   "id": "1494828e",
   "metadata": {},
   "source": [
    "### 2. A list with the different kind of datasets available in url = 'https://data.gov.uk/'"
   ]
  },
  {
   "cell_type": "code",
   "execution_count": 7,
   "id": "0741bc02",
   "metadata": {},
   "outputs": [
    {
     "data": {
      "text/plain": [
       "200"
      ]
     },
     "execution_count": 7,
     "metadata": {},
     "output_type": "execute_result"
    }
   ],
   "source": [
    "url ='https://data.gov.uk/'\n",
    "response=requests.get(url)\n",
    "response.status_code"
   ]
  },
  {
   "cell_type": "code",
   "execution_count": 8,
   "id": "6ee0135e",
   "metadata": {},
   "outputs": [],
   "source": [
    "soup=BeautifulSoup(response.content,\"html.parser\")"
   ]
  },
  {
   "cell_type": "code",
   "execution_count": 9,
   "id": "ab25df81",
   "metadata": {},
   "outputs": [],
   "source": [
    "#soup.select('#main-content > div:nth-child(3) > div > ul > li > h3 > a')"
   ]
  },
  {
   "cell_type": "code",
   "execution_count": 10,
   "id": "a8350a58",
   "metadata": {},
   "outputs": [
    {
     "data": {
      "text/plain": [
       "['Business and economy',\n",
       " 'Crime and justice',\n",
       " 'Defence',\n",
       " 'Education',\n",
       " 'Environment',\n",
       " 'Government',\n",
       " 'Government spending',\n",
       " 'Health',\n",
       " 'Mapping',\n",
       " 'Society',\n",
       " 'Towns and cities',\n",
       " 'Transport',\n",
       " 'Digital service performance',\n",
       " 'Government reference data']"
      ]
     },
     "execution_count": 10,
     "metadata": {},
     "output_type": "execute_result"
    }
   ],
   "source": [
    "datasets=[]\n",
    "\n",
    "for d in soup.select('#main-content > div:nth-child(3) > div > ul > li > h3 > a'):\n",
    "    datasets.append(d.get_text())\n",
    "datasets"
   ]
  },
  {
   "cell_type": "markdown",
   "id": "ee740910",
   "metadata": {},
   "source": [
    "### 3. Retrieve an arbitrary Wikipedia page of \"Python\" and create a list of links on that page: url ='https://en.wikipedia.org/wiki/Python'"
   ]
  },
  {
   "cell_type": "code",
   "execution_count": 11,
   "id": "23be19f6",
   "metadata": {},
   "outputs": [
    {
     "data": {
      "text/plain": [
       "200"
      ]
     },
     "execution_count": 11,
     "metadata": {},
     "output_type": "execute_result"
    }
   ],
   "source": [
    "url ='https://en.wikipedia.org/wiki/Python'\n",
    "response=requests.get(url)\n",
    "response.status_code"
   ]
  },
  {
   "cell_type": "code",
   "execution_count": 12,
   "id": "b1b5b1cc",
   "metadata": {},
   "outputs": [],
   "source": [
    "soup=BeautifulSoup(response.content,\"html.parser\")"
   ]
  },
  {
   "cell_type": "code",
   "execution_count": 13,
   "id": "4f453738",
   "metadata": {},
   "outputs": [],
   "source": [
    "#soup.select('#mw-content-text > div.mw-parser-output > ul > li > a')"
   ]
  },
  {
   "cell_type": "code",
   "execution_count": 14,
   "id": "77fd9c06",
   "metadata": {},
   "outputs": [],
   "source": [
    "links=[]\n",
    "\n",
    "for l in soup.select('#mw-content-text > div.mw-parser-output > ul > li > a'):\n",
    "    url='https://en.wikipedia.org' + l.get('href')\n",
    "    links.append(url)\n",
    "#links"
   ]
  },
  {
   "cell_type": "code",
   "execution_count": 15,
   "id": "720e0beb",
   "metadata": {},
   "outputs": [
    {
     "data": {
      "text/plain": [
       "[<a href=\"/wiki/Python_(genus)\" title=\"Python (genus)\"><i>Python</i> (genus)</a>,\n",
       " <a href=\"/wiki/Python_(Monty)_Pictures\" title=\"Python (Monty) Pictures\">Python (Monty) Pictures</a>]"
      ]
     },
     "execution_count": 15,
     "metadata": {},
     "output_type": "execute_result"
    }
   ],
   "source": [
    "#get the missing links\n",
    "soup.select('#mw-content-text > div.mw-parser-output > ul > li > ul > li >a')"
   ]
  },
  {
   "cell_type": "code",
   "execution_count": 16,
   "id": "ee4cd95d",
   "metadata": {},
   "outputs": [],
   "source": [
    "for l in soup.select('#mw-content-text > div.mw-parser-output > ul > li > ul > li >a'):\n",
    "    url='https://en.wikipedia.org' + l.get('href')\n",
    "    links.append(url)"
   ]
  },
  {
   "cell_type": "code",
   "execution_count": 17,
   "id": "b1803abc",
   "metadata": {},
   "outputs": [
    {
     "data": {
      "text/plain": [
       "'/wiki/Pyton'"
      ]
     },
     "execution_count": 17,
     "metadata": {},
     "output_type": "execute_result"
    }
   ],
   "source": [
    "a=soup.select('#mw-content-text > div.mw-parser-output > ul > li > i >a')\n",
    "a[0].get('href')"
   ]
  },
  {
   "cell_type": "code",
   "execution_count": 18,
   "id": "bd49f0dd",
   "metadata": {
    "scrolled": false
   },
   "outputs": [
    {
     "data": {
      "text/plain": [
       "['https://en.wikipedia.org/wiki/Pythonidae',\n",
       " 'https://en.wikipedia.org/wiki/Python_(mythology)',\n",
       " 'https://en.wikipedia.org/wiki/Python_(programming_language)',\n",
       " 'https://en.wikipedia.org/wiki/CMU_Common_Lisp',\n",
       " 'https://en.wikipedia.org/wiki/PERQ#PERQ_3',\n",
       " 'https://en.wikipedia.org/wiki/Python_of_Aenus',\n",
       " 'https://en.wikipedia.org/wiki/Python_(painter)',\n",
       " 'https://en.wikipedia.org/wiki/Python_of_Byzantium',\n",
       " 'https://en.wikipedia.org/wiki/Python_of_Catana',\n",
       " 'https://en.wikipedia.org/wiki/Python_Anghelo',\n",
       " 'https://en.wikipedia.org/wiki/Python_(Efteling)',\n",
       " 'https://en.wikipedia.org/wiki/Python_(Busch_Gardens_Tampa_Bay)',\n",
       " 'https://en.wikipedia.org/wiki/Python_(Coney_Island,_Cincinnati,_Ohio)',\n",
       " 'https://en.wikipedia.org/wiki/Python_(automobile_maker)',\n",
       " 'https://en.wikipedia.org/wiki/Python_(Ford_prototype)',\n",
       " 'https://en.wikipedia.org/wiki/Python_(missile)',\n",
       " 'https://en.wikipedia.org/wiki/Python_(nuclear_primary)',\n",
       " 'https://en.wikipedia.org/wiki/Colt_Python',\n",
       " 'https://en.wikipedia.org/wiki/Python_(codename)',\n",
       " 'https://en.wikipedia.org/wiki/Python_(film)',\n",
       " 'https://en.wikipedia.org/wiki/Monty_Python',\n",
       " 'https://en.wikipedia.org/wiki/Timon_of_Phlius',\n",
       " 'https://en.wikipedia.org/wiki/Pithon',\n",
       " 'https://en.wikipedia.org/wiki/Python_(genus)',\n",
       " 'https://en.wikipedia.org/wiki/Python_(Monty)_Pictures',\n",
       " 'https://en.wikipedia.org/wiki/Pyton']"
      ]
     },
     "execution_count": 18,
     "metadata": {},
     "output_type": "execute_result"
    }
   ],
   "source": [
    "links.append('https://en.wikipedia.org' + a[0].get('href'))\n",
    "links"
   ]
  },
  {
   "cell_type": "code",
   "execution_count": null,
   "id": "51169c0a",
   "metadata": {},
   "outputs": [],
   "source": []
  }
 ],
 "metadata": {
  "kernelspec": {
   "display_name": "Python 3 (ipykernel)",
   "language": "python",
   "name": "python3"
  },
  "language_info": {
   "codemirror_mode": {
    "name": "ipython",
    "version": 3
   },
   "file_extension": ".py",
   "mimetype": "text/x-python",
   "name": "python",
   "nbconvert_exporter": "python",
   "pygments_lexer": "ipython3",
   "version": "3.11.3"
  }
 },
 "nbformat": 4,
 "nbformat_minor": 5
}
