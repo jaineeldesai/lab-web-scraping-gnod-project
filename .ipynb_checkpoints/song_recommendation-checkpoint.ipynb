{
 "cells": [
  {
   "cell_type": "markdown",
   "id": "072551d3",
   "metadata": {},
   "source": [
    "## Song Recommendation"
   ]
  },
  {
   "cell_type": "code",
   "execution_count": 1,
   "id": "74196b37",
   "metadata": {},
   "outputs": [],
   "source": [
    "import pandas as pd\n",
    "import numpy as np\n",
    "import random\n",
    "import pickle\n",
    "from pandas import json_normalize"
   ]
  },
  {
   "cell_type": "code",
   "execution_count": 2,
   "id": "5301e3da",
   "metadata": {},
   "outputs": [],
   "source": [
    "import spotipy\n",
    "from spotipy.oauth2 import SpotifyClientCredentials"
   ]
  },
  {
   "cell_type": "code",
   "execution_count": 3,
   "id": "ca24f6b3",
   "metadata": {},
   "outputs": [
    {
     "name": "stdout",
     "output_type": "stream",
     "text": [
      "Please enter a song name:come monday\n"
     ]
    }
   ],
   "source": [
    "name=input('Please enter a song name:').lower()"
   ]
  },
  {
   "cell_type": "markdown",
   "id": "20f9f99a",
   "metadata": {},
   "source": [
    "### 1st Prototype\n",
    "\n",
    "From top songs we scraped from popvortex site and all eurovision winners"
   ]
  },
  {
   "cell_type": "code",
   "execution_count": 4,
   "id": "25007451",
   "metadata": {},
   "outputs": [],
   "source": [
    "top_songs=pd.read_csv('top_songs.csv')"
   ]
  },
  {
   "cell_type": "code",
   "execution_count": 5,
   "id": "b63623e3",
   "metadata": {},
   "outputs": [
    {
     "data": {
      "text/html": [
       "<div>\n",
       "<style scoped>\n",
       "    .dataframe tbody tr th:only-of-type {\n",
       "        vertical-align: middle;\n",
       "    }\n",
       "\n",
       "    .dataframe tbody tr th {\n",
       "        vertical-align: top;\n",
       "    }\n",
       "\n",
       "    .dataframe thead th {\n",
       "        text-align: right;\n",
       "    }\n",
       "</style>\n",
       "<table border=\"1\" class=\"dataframe\">\n",
       "  <thead>\n",
       "    <tr style=\"text-align: right;\">\n",
       "      <th></th>\n",
       "      <th>song</th>\n",
       "      <th>artist</th>\n",
       "    </tr>\n",
       "  </thead>\n",
       "  <tbody>\n",
       "    <tr>\n",
       "      <th>0</th>\n",
       "      <td>margaritaville</td>\n",
       "      <td>Jimmy Buffett</td>\n",
       "    </tr>\n",
       "    <tr>\n",
       "      <th>1</th>\n",
       "      <td>come monday</td>\n",
       "      <td>Jimmy Buffett</td>\n",
       "    </tr>\n",
       "    <tr>\n",
       "      <th>2</th>\n",
       "      <td>rich men north of richmond</td>\n",
       "      <td>Oliver Anthony Music</td>\n",
       "    </tr>\n",
       "    <tr>\n",
       "      <th>3</th>\n",
       "      <td>cheeseburger in paradise</td>\n",
       "      <td>Jimmy Buffett</td>\n",
       "    </tr>\n",
       "    <tr>\n",
       "      <th>4</th>\n",
       "      <td>all star</td>\n",
       "      <td>Smash Mouth</td>\n",
       "    </tr>\n",
       "  </tbody>\n",
       "</table>\n",
       "</div>"
      ],
      "text/plain": [
       "                         song                artist\n",
       "0              margaritaville         Jimmy Buffett\n",
       "1                 come monday         Jimmy Buffett\n",
       "2  rich men north of richmond  Oliver Anthony Music\n",
       "3    cheeseburger in paradise         Jimmy Buffett\n",
       "4                    all star           Smash Mouth"
      ]
     },
     "execution_count": 5,
     "metadata": {},
     "output_type": "execute_result"
    }
   ],
   "source": [
    "top_songs['song']=top_songs['song'].str.lower()\n",
    "top_songs.head()"
   ]
  },
  {
   "cell_type": "code",
   "execution_count": 6,
   "id": "29649868",
   "metadata": {
    "scrolled": true
   },
   "outputs": [
    {
     "name": "stdout",
     "output_type": "stream",
     "text": [
      "That's hot!\n",
      "Here's another recommendation: Don'T Keep It In Your Heart, There'S Nothing Happy About It by Vy Napi\n"
     ]
    }
   ],
   "source": [
    "if name in top_songs['song'].values:\n",
    "    random_song = top_songs['song'][[random.randint(0, len(top_songs)-1)]].values[0]\n",
    "    artist=top_songs['artist'][top_songs['song']==random_song].values[0]\n",
    "    random_song=random_song.title()\n",
    "    print(\"That's hot!\")\n",
    "    print(\"Here's another recommendation: \"+random_song+ \" by \" +artist)\n",
    "else:\n",
    "    print(\"No Recommendation!\")"
   ]
  },
  {
   "cell_type": "markdown",
   "id": "63ab2f81",
   "metadata": {},
   "source": [
    "### 2nd Prototype\n",
    "\n",
    "From a large playlist on spotify"
   ]
  },
  {
   "cell_type": "markdown",
   "id": "964e6b1b",
   "metadata": {},
   "source": [
    "#### Loading the dataset with clusters"
   ]
  },
  {
   "cell_type": "code",
   "execution_count": 7,
   "id": "183b58e3",
   "metadata": {},
   "outputs": [
    {
     "data": {
      "text/html": [
       "<div>\n",
       "<style scoped>\n",
       "    .dataframe tbody tr th:only-of-type {\n",
       "        vertical-align: middle;\n",
       "    }\n",
       "\n",
       "    .dataframe tbody tr th {\n",
       "        vertical-align: top;\n",
       "    }\n",
       "\n",
       "    .dataframe thead th {\n",
       "        text-align: right;\n",
       "    }\n",
       "</style>\n",
       "<table border=\"1\" class=\"dataframe\">\n",
       "  <thead>\n",
       "    <tr style=\"text-align: right;\">\n",
       "      <th></th>\n",
       "      <th>track.name</th>\n",
       "      <th>name</th>\n",
       "      <th>song_id</th>\n",
       "      <th>danceability</th>\n",
       "      <th>energy</th>\n",
       "      <th>key</th>\n",
       "      <th>loudness</th>\n",
       "      <th>mode</th>\n",
       "      <th>speechiness</th>\n",
       "      <th>acousticness</th>\n",
       "      <th>...</th>\n",
       "      <th>valence</th>\n",
       "      <th>tempo</th>\n",
       "      <th>type</th>\n",
       "      <th>uri</th>\n",
       "      <th>track_href</th>\n",
       "      <th>analysis_url</th>\n",
       "      <th>duration_ms</th>\n",
       "      <th>time_signature</th>\n",
       "      <th>k5_clusters</th>\n",
       "      <th>k8_clusters</th>\n",
       "    </tr>\n",
       "  </thead>\n",
       "  <tbody>\n",
       "    <tr>\n",
       "      <th>0</th>\n",
       "      <td>like a rolling stone</td>\n",
       "      <td>Bob Dylan</td>\n",
       "      <td>3AhXZa8sUQht0UEdBJgpGc</td>\n",
       "      <td>0.482</td>\n",
       "      <td>0.721</td>\n",
       "      <td>0</td>\n",
       "      <td>-6.839</td>\n",
       "      <td>1</td>\n",
       "      <td>0.0321</td>\n",
       "      <td>0.731000</td>\n",
       "      <td>...</td>\n",
       "      <td>0.557</td>\n",
       "      <td>95.263</td>\n",
       "      <td>audio_features</td>\n",
       "      <td>spotify:track:3AhXZa8sUQht0UEdBJgpGc</td>\n",
       "      <td>https://api.spotify.com/v1/tracks/3AhXZa8sUQht...</td>\n",
       "      <td>https://api.spotify.com/v1/audio-analysis/3AhX...</td>\n",
       "      <td>369600</td>\n",
       "      <td>4</td>\n",
       "      <td>0</td>\n",
       "      <td>5</td>\n",
       "    </tr>\n",
       "    <tr>\n",
       "      <th>1</th>\n",
       "      <td>smells like teen spirit</td>\n",
       "      <td>Nirvana</td>\n",
       "      <td>3oTlkzk1OtrhH8wBAduVEi</td>\n",
       "      <td>0.485</td>\n",
       "      <td>0.863</td>\n",
       "      <td>1</td>\n",
       "      <td>-9.027</td>\n",
       "      <td>1</td>\n",
       "      <td>0.0495</td>\n",
       "      <td>0.000012</td>\n",
       "      <td>...</td>\n",
       "      <td>0.767</td>\n",
       "      <td>116.835</td>\n",
       "      <td>audio_features</td>\n",
       "      <td>spotify:track:3oTlkzk1OtrhH8wBAduVEi</td>\n",
       "      <td>https://api.spotify.com/v1/tracks/3oTlkzk1Otrh...</td>\n",
       "      <td>https://api.spotify.com/v1/audio-analysis/3oTl...</td>\n",
       "      <td>300977</td>\n",
       "      <td>4</td>\n",
       "      <td>0</td>\n",
       "      <td>5</td>\n",
       "    </tr>\n",
       "    <tr>\n",
       "      <th>2</th>\n",
       "      <td>a day in the life - remastered</td>\n",
       "      <td>The Beatles</td>\n",
       "      <td>3ZFBeIyP41HhnALjxWy1pR</td>\n",
       "      <td>0.364</td>\n",
       "      <td>0.457</td>\n",
       "      <td>4</td>\n",
       "      <td>-14.162</td>\n",
       "      <td>0</td>\n",
       "      <td>0.0675</td>\n",
       "      <td>0.290000</td>\n",
       "      <td>...</td>\n",
       "      <td>0.175</td>\n",
       "      <td>163.219</td>\n",
       "      <td>audio_features</td>\n",
       "      <td>spotify:track:3ZFBeIyP41HhnALjxWy1pR</td>\n",
       "      <td>https://api.spotify.com/v1/tracks/3ZFBeIyP41Hh...</td>\n",
       "      <td>https://api.spotify.com/v1/audio-analysis/3ZFB...</td>\n",
       "      <td>337413</td>\n",
       "      <td>4</td>\n",
       "      <td>4</td>\n",
       "      <td>7</td>\n",
       "    </tr>\n",
       "  </tbody>\n",
       "</table>\n",
       "<p>3 rows × 22 columns</p>\n",
       "</div>"
      ],
      "text/plain": [
       "                       track.name         name                 song_id  \\\n",
       "0            like a rolling stone    Bob Dylan  3AhXZa8sUQht0UEdBJgpGc   \n",
       "1         smells like teen spirit      Nirvana  3oTlkzk1OtrhH8wBAduVEi   \n",
       "2  a day in the life - remastered  The Beatles  3ZFBeIyP41HhnALjxWy1pR   \n",
       "\n",
       "   danceability  energy  key  loudness  mode  speechiness  acousticness  ...  \\\n",
       "0         0.482   0.721    0    -6.839     1       0.0321      0.731000  ...   \n",
       "1         0.485   0.863    1    -9.027     1       0.0495      0.000012  ...   \n",
       "2         0.364   0.457    4   -14.162     0       0.0675      0.290000  ...   \n",
       "\n",
       "   valence    tempo            type                                   uri  \\\n",
       "0    0.557   95.263  audio_features  spotify:track:3AhXZa8sUQht0UEdBJgpGc   \n",
       "1    0.767  116.835  audio_features  spotify:track:3oTlkzk1OtrhH8wBAduVEi   \n",
       "2    0.175  163.219  audio_features  spotify:track:3ZFBeIyP41HhnALjxWy1pR   \n",
       "\n",
       "                                          track_href  \\\n",
       "0  https://api.spotify.com/v1/tracks/3AhXZa8sUQht...   \n",
       "1  https://api.spotify.com/v1/tracks/3oTlkzk1Otrh...   \n",
       "2  https://api.spotify.com/v1/tracks/3ZFBeIyP41Hh...   \n",
       "\n",
       "                                        analysis_url duration_ms  \\\n",
       "0  https://api.spotify.com/v1/audio-analysis/3AhX...      369600   \n",
       "1  https://api.spotify.com/v1/audio-analysis/3oTl...      300977   \n",
       "2  https://api.spotify.com/v1/audio-analysis/3ZFB...      337413   \n",
       "\n",
       "  time_signature  k5_clusters  k8_clusters  \n",
       "0              4            0            5  \n",
       "1              4            0            5  \n",
       "2              4            4            7  \n",
       "\n",
       "[3 rows x 22 columns]"
      ]
     },
     "execution_count": 7,
     "metadata": {},
     "output_type": "execute_result"
    }
   ],
   "source": [
    "songs_list=pd.read_pickle('songs_wt_clusters.pkl')\n",
    "songs_list['track.name']=songs_list['track.name'].str.lower()\n",
    "songs_list.head(3)"
   ]
  },
  {
   "cell_type": "markdown",
   "id": "f7be5cb2",
   "metadata": {},
   "source": [
    "#### Spotify API Connection and Authentication"
   ]
  },
  {
   "cell_type": "code",
   "execution_count": 8,
   "id": "6ba2b0a1",
   "metadata": {},
   "outputs": [],
   "source": [
    "def authenticate():\n",
    "    secrets_file= open(\"secrets.txt\",\"r\")\n",
    "    string = secrets_file.read()\n",
    "    secrets_dict={}\n",
    "    for line in string.split('\\n'):\n",
    "        if len(line) > 0:\n",
    "            secrets_dict[line.split(':')[0]]=line.split(':')[1].strip()\n",
    "    sp = spotipy.Spotify(auth_manager=SpotifyClientCredentials(client_id=secrets_dict['clientid'],\n",
    "                                                           client_secret=secrets_dict['clientsecret']))\n",
    "    return sp"
   ]
  },
  {
   "cell_type": "code",
   "execution_count": 9,
   "id": "fdd11f76",
   "metadata": {},
   "outputs": [],
   "source": [
    "sp=authenticate()"
   ]
  },
  {
   "cell_type": "code",
   "execution_count": 10,
   "id": "5c5c3f39",
   "metadata": {},
   "outputs": [
    {
     "data": {
      "text/plain": [
       "<spotipy.client.Spotify at 0x1de355f4590>"
      ]
     },
     "execution_count": 10,
     "metadata": {},
     "output_type": "execute_result"
    }
   ],
   "source": [
    "sp"
   ]
  },
  {
   "cell_type": "markdown",
   "id": "e9598602",
   "metadata": {},
   "source": [
    "- I built two models; one with k=5 and another with k=8. I will be using them both to make predictions"
   ]
  },
  {
   "cell_type": "code",
   "execution_count": 11,
   "id": "85336c7f",
   "metadata": {},
   "outputs": [],
   "source": [
    "def get_audio_features(track):\n",
    "    \n",
    "    #searches track info\n",
    "    search= sp.search(q=name,type='track',limit=1)\n",
    "    track_id=search['tracks']['items'][0]['id']\n",
    "    \n",
    "    #getting the audio features and selecting only numeric\n",
    "    #scaler will be used to transform numeric data\n",
    "    audio_ft=json_normalize(sp.audio_features(track_id))\n",
    "    audio_ft=audio_ft.select_dtypes(np.number)\n",
    "    \n",
    "    #loading scaler that was used to fit the X_prep\n",
    "    scaler=pickle.load(open('scaler.pkl','rb'))\n",
    "    audio_ft_scaled=scaler.transform(audio_ft)\n",
    "    \n",
    "    #loading the models built to make predictions\n",
    "    model_1=pickle.load(open('kmeans_5.sav','rb'))\n",
    "    model_2=pickle.load(open('kmeans_8.sav','rb'))\n",
    "    \n",
    "    #making predictions of the cluster based on audio features\n",
    "    pred_1=model_1.predict(audio_ft_scaled)\n",
    "    pred_2=model_2.predict(audio_ft_scaled)\n",
    "    \n",
    "    #returns value instead of a series\n",
    "    return pred_1[0],pred_2[0]\n",
    "\n",
    "#cluster_1,cluster_2= get_audio_features(name)"
   ]
  },
  {
   "cell_type": "markdown",
   "id": "e9fb2e0e",
   "metadata": {},
   "source": [
    "**Note:** I dont want to end my recommendation if the songs exists in the top hot songs and simply recommend a song from that top 170  songs. So if it exists in the top hot songs, I will recommend another hot song but also recommend songs based on audio features. Since I have two models, I will have two songs as recommendation based on audio features."
   ]
  },
  {
   "cell_type": "code",
   "execution_count": 12,
   "id": "e060af17",
   "metadata": {},
   "outputs": [],
   "source": [
    "def recommend(track):\n",
    "    print(\"You like:\",track.title())\n",
    "    print(\"Amazing Choice! \\n\")\n",
    "    \n",
    "    #recommend songs from top hot songs\n",
    "    if track in top_songs['song'].values:\n",
    "        random_song = top_songs['song'][[random.randint(0, len(top_songs)-1)]].values[0]\n",
    "        artist=top_songs['artist'][top_songs['song']==random_song].values[0]\n",
    "        random_song=random_song.title()\n",
    "        print(\"That's hot!\")\n",
    "        print(\"Here's another recommendation from Hot Right Now: \"+random_song+ \" by \" +artist,'\\n')\n",
    "    \n",
    "    #recommend songs based on audio features:\n",
    "    #1. get the cluster value\n",
    "    if (songs_list['track.name'] == name).any():   #from the predictions we made using model on our playlist\n",
    "        cluster_1=songs_list['k5_clusters'][songs_list['track.name']==track].values[0]\n",
    "        cluster_2=songs_list['k8_clusters'][songs_list['track.name']==track].values[0]\n",
    "        \n",
    "    elif (songs_list['track.name'] != name).any(): #using directly spotify api\n",
    "        cluster_1,cluster_2= get_audio_features(track)\n",
    "        \n",
    "    else:\n",
    "        return 'No Recommendation!'\n",
    "    \n",
    "    #2 use the cluster value to get the songs which are clustered together\n",
    "    #reset_index is important otherwise random.choice won't work\n",
    "    recommend_1= songs_list['track.name'][songs_list['k5_clusters']==cluster_1].reset_index(drop=True)\n",
    "    recommend_2= songs_list['track.name'][songs_list['k8_clusters']==cluster_2].reset_index(drop=True)\n",
    "    \n",
    "    #3 from the chosen clustered songs, select a random song except for the song given by the user \n",
    "    random_1= random.choice(recommend_1[recommend_1!=name])\n",
    "    random_2= random.choice(recommend_2[recommend_2!=name])\n",
    "    \n",
    "    #4 get the artist of the song select by random\n",
    "    artist_1=songs_list['name'][songs_list['track.name']==random_1].values[0]\n",
    "    artist_2=songs_list['name'][songs_list['track.name']==random_2].values[0]\n",
    "    \n",
    "    #improves readability\n",
    "    random_1=random_1.title()\n",
    "    random_2=random_2.title()\n",
    "    \n",
    "    print(r'We would also recommend: {} by {} and {} by {}'.format(random_1,artist_1,random_2,artist_2))"
   ]
  },
  {
   "cell_type": "code",
   "execution_count": 13,
   "id": "a08c62e2",
   "metadata": {},
   "outputs": [
    {
     "name": "stdout",
     "output_type": "stream",
     "text": [
      "Please enter a song name:Paradise\n"
     ]
    }
   ],
   "source": [
    "name=input('Please enter a song name:').lower()"
   ]
  },
  {
   "cell_type": "code",
   "execution_count": 14,
   "id": "e00bbf6a",
   "metadata": {},
   "outputs": [
    {
     "name": "stdout",
     "output_type": "stream",
     "text": [
      "You like: Paradise\n",
      "Amazing Choice! \n",
      "\n",
      "We would also recommend: Lucille by Little Richard and Rockin' All Over The World by John Fogerty\n"
     ]
    }
   ],
   "source": [
    "recommend(name)"
   ]
  },
  {
   "cell_type": "code",
   "execution_count": 15,
   "id": "5508c5c6",
   "metadata": {},
   "outputs": [],
   "source": [
    "# can be updated: the if else loop for audio features can be dropped\n",
    "# can directly say cluster_1,cluster_2= get_audio_features(track) and run the rest of the code"
   ]
  }
 ],
 "metadata": {
  "kernelspec": {
   "display_name": "Python 3 (ipykernel)",
   "language": "python",
   "name": "python3"
  },
  "language_info": {
   "codemirror_mode": {
    "name": "ipython",
    "version": 3
   },
   "file_extension": ".py",
   "mimetype": "text/x-python",
   "name": "python",
   "nbconvert_exporter": "python",
   "pygments_lexer": "ipython3",
   "version": "3.11.3"
  }
 },
 "nbformat": 4,
 "nbformat_minor": 5
}
