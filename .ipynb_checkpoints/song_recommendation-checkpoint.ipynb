{
 "cells": [
  {
   "cell_type": "markdown",
   "id": "072551d3",
   "metadata": {},
   "source": [
    "## Song Recommendation"
   ]
  },
  {
   "cell_type": "code",
   "execution_count": 1,
   "id": "74196b37",
   "metadata": {},
   "outputs": [],
   "source": [
    "import pandas as pd\n",
    "import random"
   ]
  },
  {
   "cell_type": "code",
   "execution_count": 5,
   "id": "ca24f6b3",
   "metadata": {},
   "outputs": [
    {
     "name": "stdout",
     "output_type": "stream",
     "text": [
      "Please enter a song name:refrree\n"
     ]
    }
   ],
   "source": [
    "name=input('Please enter a song name:')"
   ]
  },
  {
   "cell_type": "markdown",
   "id": "20f9f99a",
   "metadata": {},
   "source": [
    "### 1st Prototype\n",
    "\n",
    "From top songs we scraped from popvortex site and all eurovision winners"
   ]
  },
  {
   "cell_type": "code",
   "execution_count": 2,
   "id": "25007451",
   "metadata": {},
   "outputs": [],
   "source": [
    "top_songs=pd.read_csv('top_songs.csv')"
   ]
  },
  {
   "cell_type": "code",
   "execution_count": 3,
   "id": "b63623e3",
   "metadata": {},
   "outputs": [
    {
     "data": {
      "text/html": [
       "<div>\n",
       "<style scoped>\n",
       "    .dataframe tbody tr th:only-of-type {\n",
       "        vertical-align: middle;\n",
       "    }\n",
       "\n",
       "    .dataframe tbody tr th {\n",
       "        vertical-align: top;\n",
       "    }\n",
       "\n",
       "    .dataframe thead th {\n",
       "        text-align: right;\n",
       "    }\n",
       "</style>\n",
       "<table border=\"1\" class=\"dataframe\">\n",
       "  <thead>\n",
       "    <tr style=\"text-align: right;\">\n",
       "      <th></th>\n",
       "      <th>song</th>\n",
       "      <th>artist</th>\n",
       "    </tr>\n",
       "  </thead>\n",
       "  <tbody>\n",
       "    <tr>\n",
       "      <th>0</th>\n",
       "      <td>Margaritaville</td>\n",
       "      <td>Jimmy Buffett</td>\n",
       "    </tr>\n",
       "    <tr>\n",
       "      <th>1</th>\n",
       "      <td>Come Monday</td>\n",
       "      <td>Jimmy Buffett</td>\n",
       "    </tr>\n",
       "    <tr>\n",
       "      <th>2</th>\n",
       "      <td>Rich Men North of Richmond</td>\n",
       "      <td>Oliver Anthony Music</td>\n",
       "    </tr>\n",
       "    <tr>\n",
       "      <th>3</th>\n",
       "      <td>Cheeseburger In Paradise</td>\n",
       "      <td>Jimmy Buffett</td>\n",
       "    </tr>\n",
       "    <tr>\n",
       "      <th>4</th>\n",
       "      <td>All Star</td>\n",
       "      <td>Smash Mouth</td>\n",
       "    </tr>\n",
       "    <tr>\n",
       "      <th>...</th>\n",
       "      <td>...</td>\n",
       "      <td>...</td>\n",
       "    </tr>\n",
       "    <tr>\n",
       "      <th>165</th>\n",
       "      <td>Toy</td>\n",
       "      <td>Netta</td>\n",
       "    </tr>\n",
       "    <tr>\n",
       "      <th>166</th>\n",
       "      <td>Arcade</td>\n",
       "      <td>Duncan Laurence</td>\n",
       "    </tr>\n",
       "    <tr>\n",
       "      <th>167</th>\n",
       "      <td>Zitti e buoni</td>\n",
       "      <td>Måneskin</td>\n",
       "    </tr>\n",
       "    <tr>\n",
       "      <th>168</th>\n",
       "      <td>Stefania</td>\n",
       "      <td>Kalush Orchestra</td>\n",
       "    </tr>\n",
       "    <tr>\n",
       "      <th>169</th>\n",
       "      <td>Tattoo</td>\n",
       "      <td>Loreen</td>\n",
       "    </tr>\n",
       "  </tbody>\n",
       "</table>\n",
       "<p>170 rows × 2 columns</p>\n",
       "</div>"
      ],
      "text/plain": [
       "                           song                artist\n",
       "0                Margaritaville         Jimmy Buffett\n",
       "1                   Come Monday         Jimmy Buffett\n",
       "2    Rich Men North of Richmond  Oliver Anthony Music\n",
       "3      Cheeseburger In Paradise         Jimmy Buffett\n",
       "4                      All Star           Smash Mouth\n",
       "..                          ...                   ...\n",
       "165                         Toy                 Netta\n",
       "166                      Arcade       Duncan Laurence\n",
       "167               Zitti e buoni              Måneskin\n",
       "168                    Stefania      Kalush Orchestra\n",
       "169                      Tattoo                Loreen\n",
       "\n",
       "[170 rows x 2 columns]"
      ]
     },
     "execution_count": 3,
     "metadata": {},
     "output_type": "execute_result"
    }
   ],
   "source": [
    "top_songs"
   ]
  },
  {
   "cell_type": "code",
   "execution_count": 10,
   "id": "29649868",
   "metadata": {
    "scrolled": true
   },
   "outputs": [
    {
     "name": "stdout",
     "output_type": "stream",
     "text": [
      "No Recommendation!\n"
     ]
    }
   ],
   "source": [
    "if name.capitalize() in top_songs['song'].values:\n",
    "    random_song = top_songs['song'][[random.randint(0, len(top_songs)-1)]].values[0]\n",
    "    artist=top_songs['artist'][top_songs['song']==random_song].values[0]\n",
    "    print(\"That's hot!\")\n",
    "    print(\"Here's another recommendation: \"+random_song+ \" by \" +artist)\n",
    "else:\n",
    "    print(\"No Recommendation!\")"
   ]
  },
  {
   "cell_type": "markdown",
   "id": "63ab2f81",
   "metadata": {},
   "source": [
    "### 2nd Prototype\n",
    "\n",
    "From a large playlist on spotify"
   ]
  },
  {
   "cell_type": "code",
   "execution_count": null,
   "id": "183b58e3",
   "metadata": {},
   "outputs": [],
   "source": []
  }
 ],
 "metadata": {
  "kernelspec": {
   "display_name": "Python 3 (ipykernel)",
   "language": "python",
   "name": "python3"
  },
  "language_info": {
   "codemirror_mode": {
    "name": "ipython",
    "version": 3
   },
   "file_extension": ".py",
   "mimetype": "text/x-python",
   "name": "python",
   "nbconvert_exporter": "python",
   "pygments_lexer": "ipython3",
   "version": "3.11.3"
  }
 },
 "nbformat": 4,
 "nbformat_minor": 5
}
