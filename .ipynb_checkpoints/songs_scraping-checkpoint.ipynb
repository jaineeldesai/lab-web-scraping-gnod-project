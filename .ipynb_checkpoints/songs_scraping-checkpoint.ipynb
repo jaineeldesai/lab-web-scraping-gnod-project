{
 "cells": [
  {
   "cell_type": "code",
   "execution_count": 1,
   "id": "d889047c",
   "metadata": {},
   "outputs": [],
   "source": [
    "import pandas as pd\n",
    "import numpy as np\n",
    "from bs4 import BeautifulSoup\n",
    "import requests"
   ]
  },
  {
   "cell_type": "markdown",
   "id": "9771f8c5",
   "metadata": {},
   "source": [
    "### Getting top 100 songs from 'popvortex'"
   ]
  },
  {
   "cell_type": "code",
   "execution_count": 2,
   "id": "382f3c9b",
   "metadata": {},
   "outputs": [
    {
     "data": {
      "text/plain": [
       "200"
      ]
     },
     "execution_count": 2,
     "metadata": {},
     "output_type": "execute_result"
    }
   ],
   "source": [
    "url=\"https://www.popvortex.com/music/charts/top-100-songs.php\"\n",
    "response = requests.get(url)\n",
    "response.status_code"
   ]
  },
  {
   "cell_type": "code",
   "execution_count": 3,
   "id": "4ce2faf9",
   "metadata": {},
   "outputs": [],
   "source": [
    "soup = BeautifulSoup(response.content, \"html.parser\")"
   ]
  },
  {
   "cell_type": "code",
   "execution_count": 4,
   "id": "b8f94e1d",
   "metadata": {},
   "outputs": [],
   "source": [
    "#soup.select('body > div.container > div:nth-child(4) > div.col-xs-12.col-md-8 > div.chart-wrapper > div.feed-item > div.chart-content > p > cite')"
   ]
  },
  {
   "cell_type": "code",
   "execution_count": 5,
   "id": "5202904a",
   "metadata": {
    "scrolled": true
   },
   "outputs": [],
   "source": [
    "name=[]\n",
    "for i in soup.select('body > div.container > div:nth-child(4) > div.col-xs-12.col-md-8 > div.chart-wrapper > div.feed-item > div.chart-content > p > cite'):\n",
    "    name.append(i.get_text().strip())\n"
   ]
  },
  {
   "cell_type": "code",
   "execution_count": 6,
   "id": "49081222",
   "metadata": {},
   "outputs": [],
   "source": [
    "#soup.select('body > div.container > div:nth-child(4) > div.col-xs-12.col-md-8 > div.chart-wrapper > div.feed-item > div.chart-content > p > em')"
   ]
  },
  {
   "cell_type": "code",
   "execution_count": 7,
   "id": "1d1bda2e",
   "metadata": {},
   "outputs": [],
   "source": [
    "artist=[]\n",
    "\n",
    "for a in soup.select('body > div.container > div:nth-child(4) > div.col-xs-12.col-md-8 > div.chart-wrapper > div.feed-item > div.chart-content > p > em'):\n",
    "    artist.append(a.get_text().strip())"
   ]
  },
  {
   "cell_type": "code",
   "execution_count": 8,
   "id": "3abf56a0",
   "metadata": {},
   "outputs": [
    {
     "data": {
      "text/html": [
       "<div>\n",
       "<style scoped>\n",
       "    .dataframe tbody tr th:only-of-type {\n",
       "        vertical-align: middle;\n",
       "    }\n",
       "\n",
       "    .dataframe tbody tr th {\n",
       "        vertical-align: top;\n",
       "    }\n",
       "\n",
       "    .dataframe thead th {\n",
       "        text-align: right;\n",
       "    }\n",
       "</style>\n",
       "<table border=\"1\" class=\"dataframe\">\n",
       "  <thead>\n",
       "    <tr style=\"text-align: right;\">\n",
       "      <th></th>\n",
       "      <th>song</th>\n",
       "      <th>artist</th>\n",
       "    </tr>\n",
       "  </thead>\n",
       "  <tbody>\n",
       "    <tr>\n",
       "      <th>0</th>\n",
       "      <td>Margaritaville</td>\n",
       "      <td>Jimmy Buffett</td>\n",
       "    </tr>\n",
       "    <tr>\n",
       "      <th>1</th>\n",
       "      <td>Come Monday</td>\n",
       "      <td>Jimmy Buffett</td>\n",
       "    </tr>\n",
       "    <tr>\n",
       "      <th>2</th>\n",
       "      <td>Rich Men North of Richmond</td>\n",
       "      <td>Oliver Anthony Music</td>\n",
       "    </tr>\n",
       "    <tr>\n",
       "      <th>3</th>\n",
       "      <td>Cheeseburger In Paradise</td>\n",
       "      <td>Jimmy Buffett</td>\n",
       "    </tr>\n",
       "    <tr>\n",
       "      <th>4</th>\n",
       "      <td>All Star</td>\n",
       "      <td>Smash Mouth</td>\n",
       "    </tr>\n",
       "    <tr>\n",
       "      <th>...</th>\n",
       "      <td>...</td>\n",
       "      <td>...</td>\n",
       "    </tr>\n",
       "    <tr>\n",
       "      <th>95</th>\n",
       "      <td>Don't Keep It In Your Heart, There's Nothing H...</td>\n",
       "      <td>Vy Napi</td>\n",
       "    </tr>\n",
       "    <tr>\n",
       "      <th>96</th>\n",
       "      <td>Spirit In the Sky</td>\n",
       "      <td>Norman Greenbaum</td>\n",
       "    </tr>\n",
       "    <tr>\n",
       "      <th>97</th>\n",
       "      <td>Snooze</td>\n",
       "      <td>SZA</td>\n",
       "    </tr>\n",
       "    <tr>\n",
       "      <th>98</th>\n",
       "      <td>Dial Drunk</td>\n",
       "      <td>Noah Kahan &amp; Post Malone</td>\n",
       "    </tr>\n",
       "    <tr>\n",
       "      <th>99</th>\n",
       "      <td>bad idea right?</td>\n",
       "      <td>Olivia Rodrigo</td>\n",
       "    </tr>\n",
       "  </tbody>\n",
       "</table>\n",
       "<p>100 rows × 2 columns</p>\n",
       "</div>"
      ],
      "text/plain": [
       "                                                 song  \\\n",
       "0                                      Margaritaville   \n",
       "1                                         Come Monday   \n",
       "2                          Rich Men North of Richmond   \n",
       "3                            Cheeseburger In Paradise   \n",
       "4                                            All Star   \n",
       "..                                                ...   \n",
       "95  Don't Keep It In Your Heart, There's Nothing H...   \n",
       "96                                  Spirit In the Sky   \n",
       "97                                             Snooze   \n",
       "98                                         Dial Drunk   \n",
       "99                                    bad idea right?   \n",
       "\n",
       "                      artist  \n",
       "0              Jimmy Buffett  \n",
       "1              Jimmy Buffett  \n",
       "2       Oliver Anthony Music  \n",
       "3              Jimmy Buffett  \n",
       "4                Smash Mouth  \n",
       "..                       ...  \n",
       "95                   Vy Napi  \n",
       "96          Norman Greenbaum  \n",
       "97                       SZA  \n",
       "98  Noah Kahan & Post Malone  \n",
       "99            Olivia Rodrigo  \n",
       "\n",
       "[100 rows x 2 columns]"
      ]
     },
     "execution_count": 8,
     "metadata": {},
     "output_type": "execute_result"
    }
   ],
   "source": [
    "top100=pd.DataFrame({'song':name,\n",
    "                    'artist':artist})\n",
    "top100"
   ]
  },
  {
   "cell_type": "code",
   "execution_count": 9,
   "id": "427e0a7c",
   "metadata": {},
   "outputs": [
    {
     "data": {
      "text/plain": [
       "False    100\n",
       "Name: song, dtype: int64"
      ]
     },
     "execution_count": 9,
     "metadata": {},
     "output_type": "execute_result"
    }
   ],
   "source": [
    "top100['song'].str.startswith(' ').value_counts()"
   ]
  },
  {
   "cell_type": "code",
   "execution_count": 10,
   "id": "918b20ba",
   "metadata": {},
   "outputs": [
    {
     "data": {
      "text/plain": [
       "False    100\n",
       "Name: song, dtype: int64"
      ]
     },
     "execution_count": 10,
     "metadata": {},
     "output_type": "execute_result"
    }
   ],
   "source": [
    "top100['song'].str.endswith(' ').value_counts()"
   ]
  },
  {
   "cell_type": "code",
   "execution_count": 11,
   "id": "4cfbf56a",
   "metadata": {},
   "outputs": [
    {
     "data": {
      "text/plain": [
       "False    100\n",
       "Name: artist, dtype: int64"
      ]
     },
     "execution_count": 11,
     "metadata": {},
     "output_type": "execute_result"
    }
   ],
   "source": [
    "top100['artist'].str.startswith(' ').value_counts()"
   ]
  },
  {
   "cell_type": "code",
   "execution_count": 12,
   "id": "32ace9d5",
   "metadata": {},
   "outputs": [
    {
     "data": {
      "text/plain": [
       "False    100\n",
       "Name: artist, dtype: int64"
      ]
     },
     "execution_count": 12,
     "metadata": {},
     "output_type": "execute_result"
    }
   ],
   "source": [
    "top100['artist'].str.endswith(' ').value_counts()"
   ]
  },
  {
   "cell_type": "code",
   "execution_count": 32,
   "id": "19ef0d7f",
   "metadata": {},
   "outputs": [],
   "source": [
    "#top100.to_csv('top100.csv',index=False)"
   ]
  },
  {
   "cell_type": "markdown",
   "id": "cea75460",
   "metadata": {},
   "source": [
    "### Eurovision winner songs and artist (1956-2023)"
   ]
  },
  {
   "cell_type": "code",
   "execution_count": 13,
   "id": "015aafc7",
   "metadata": {},
   "outputs": [],
   "source": [
    "url=\"https://en.wikipedia.org/wiki/List_of_Eurovision_Song_Contest_winners\"\n",
    "response = requests.get(url)\n",
    "response.status_code\n",
    "soup = BeautifulSoup(response.content, \"html.parser\")"
   ]
  },
  {
   "cell_type": "code",
   "execution_count": 14,
   "id": "9cd2b0af",
   "metadata": {},
   "outputs": [],
   "source": [
    "#mw-content-text > div.mw-parser-output > table:nth-child(13) > tbody"
   ]
  },
  {
   "cell_type": "code",
   "execution_count": 15,
   "id": "efc6d046",
   "metadata": {},
   "outputs": [
    {
     "data": {
      "text/plain": [
       "[]"
      ]
     },
     "execution_count": 15,
     "metadata": {},
     "output_type": "execute_result"
    }
   ],
   "source": [
    "soup.select('#mw-content-text > div.mw-parser-output > table:nth-child(41) > tbody')"
   ]
  },
  {
   "cell_type": "code",
   "execution_count": 16,
   "id": "d25d94f7",
   "metadata": {},
   "outputs": [],
   "source": [
    "songs_tab=soup.select('table')[0]"
   ]
  },
  {
   "cell_type": "code",
   "execution_count": 17,
   "id": "fb520581",
   "metadata": {},
   "outputs": [],
   "source": [
    "#songs_tab.select(\"td:nth-of-type(2) a\")"
   ]
  },
  {
   "cell_type": "code",
   "execution_count": 18,
   "id": "1ab72002",
   "metadata": {},
   "outputs": [],
   "source": [
    "songs=[]\n",
    "for s in songs_tab.select(\"td:nth-of-type(2) a\"):\n",
    "    songs.append(s.get('href'))"
   ]
  },
  {
   "cell_type": "code",
   "execution_count": 19,
   "id": "6f2b745a",
   "metadata": {},
   "outputs": [
    {
     "data": {
      "text/plain": [
       "71"
      ]
     },
     "execution_count": 19,
     "metadata": {},
     "output_type": "execute_result"
    }
   ],
   "source": [
    "len(songs)"
   ]
  },
  {
   "cell_type": "code",
   "execution_count": 20,
   "id": "3f02a9f5",
   "metadata": {},
   "outputs": [],
   "source": [
    "import random\n",
    "from time import sleep\n",
    "songs_soup=[]\n",
    "\n",
    "for song in songs:\n",
    "    # send request\n",
    "    url = \"https://en.wikipedia.org\" + song\n",
    "    response = requests.get(url)\n",
    "    #print(song, response.status_code)\n",
    "\n",
    "    # parse & store html\n",
    "    soup = BeautifulSoup(response.content, \"html.parser\")\n",
    "    songs_soup.append(soup.select(\"table.infobox\"))\n",
    "\n",
    "    # respectful nap:\n",
    "    wait_time = random.randint(1,4000)\n",
    "    sleep(wait_time/1000)"
   ]
  },
  {
   "cell_type": "code",
   "execution_count": 21,
   "id": "0c6735a2",
   "metadata": {},
   "outputs": [],
   "source": [
    "songs = []\n",
    "artists = []\n",
    "\n",
    "for song in songs_soup:\n",
    "    try:\n",
    "        songs.append(song[0].select(\"th.infobox-above\")[0].get_text())\n",
    "    except:\n",
    "        songs.append(\"NA\")\n",
    "    try:\n",
    "        artists.append(song[0].find(\"th\", string = \"Artist(s)\").parent.select(\"a\")[0].get_text())\n",
    "    except:\n",
    "        try:\n",
    "            artists.append(song[0].select(\"th.infobox-header\")[0].select(\"a\")[1].get_text())\n",
    "        except:\n",
    "            try:\n",
    "                artists.append(song[0].find(\"th\", string = \"As\").parent.select(\"a\")[0].get_text())\n",
    "            except:\n",
    "                try:\n",
    "                    artists.append(song[0].find(\"th\", string = \"Artist(s)\").parent.select(\"div\")[0].get_text())\n",
    "                except:\n",
    "                    artists.append(\"NA\")"
   ]
  },
  {
   "cell_type": "code",
   "execution_count": 22,
   "id": "4f2bdd42",
   "metadata": {},
   "outputs": [],
   "source": [
    "euro_winners = pd.DataFrame({\"song\":songs,\n",
    "                             \"artist\":artists})"
   ]
  },
  {
   "cell_type": "code",
   "execution_count": 23,
   "id": "87d1c065",
   "metadata": {},
   "outputs": [
    {
     "data": {
      "text/html": [
       "<div>\n",
       "<style scoped>\n",
       "    .dataframe tbody tr th:only-of-type {\n",
       "        vertical-align: middle;\n",
       "    }\n",
       "\n",
       "    .dataframe tbody tr th {\n",
       "        vertical-align: top;\n",
       "    }\n",
       "\n",
       "    .dataframe thead th {\n",
       "        text-align: right;\n",
       "    }\n",
       "</style>\n",
       "<table border=\"1\" class=\"dataframe\">\n",
       "  <thead>\n",
       "    <tr style=\"text-align: right;\">\n",
       "      <th></th>\n",
       "      <th>song</th>\n",
       "      <th>artist</th>\n",
       "    </tr>\n",
       "  </thead>\n",
       "  <tbody>\n",
       "    <tr>\n",
       "      <th>0</th>\n",
       "      <td>\"Refrain\"</td>\n",
       "      <td>Lys Assia</td>\n",
       "    </tr>\n",
       "    <tr>\n",
       "      <th>1</th>\n",
       "      <td>\"Net als toen\"</td>\n",
       "      <td>Corry Brokken</td>\n",
       "    </tr>\n",
       "    <tr>\n",
       "      <th>2</th>\n",
       "      <td>\"Dors, mon amour\"</td>\n",
       "      <td>André Claveau</td>\n",
       "    </tr>\n",
       "    <tr>\n",
       "      <th>3</th>\n",
       "      <td>\"'n Beetje\"</td>\n",
       "      <td>Teddy Scholten</td>\n",
       "    </tr>\n",
       "    <tr>\n",
       "      <th>4</th>\n",
       "      <td>\"Tom Pillibi\"</td>\n",
       "      <td>Jacqueline Boyer</td>\n",
       "    </tr>\n",
       "    <tr>\n",
       "      <th>...</th>\n",
       "      <td>...</td>\n",
       "      <td>...</td>\n",
       "    </tr>\n",
       "    <tr>\n",
       "      <th>66</th>\n",
       "      <td>\"Arcade\"</td>\n",
       "      <td>Duncan Laurence</td>\n",
       "    </tr>\n",
       "    <tr>\n",
       "      <th>67</th>\n",
       "      <td>NA</td>\n",
       "      <td>NA</td>\n",
       "    </tr>\n",
       "    <tr>\n",
       "      <th>68</th>\n",
       "      <td>\"Zitti e buoni\"</td>\n",
       "      <td>Måneskin</td>\n",
       "    </tr>\n",
       "    <tr>\n",
       "      <th>69</th>\n",
       "      <td>\"Stefania\"</td>\n",
       "      <td>Kalush Orchestra</td>\n",
       "    </tr>\n",
       "    <tr>\n",
       "      <th>70</th>\n",
       "      <td>\"Tattoo\"</td>\n",
       "      <td>Loreen</td>\n",
       "    </tr>\n",
       "  </tbody>\n",
       "</table>\n",
       "<p>71 rows × 2 columns</p>\n",
       "</div>"
      ],
      "text/plain": [
       "                  song            artist\n",
       "0            \"Refrain\"         Lys Assia\n",
       "1       \"Net als toen\"     Corry Brokken\n",
       "2    \"Dors, mon amour\"     André Claveau\n",
       "3          \"'n Beetje\"    Teddy Scholten\n",
       "4        \"Tom Pillibi\"  Jacqueline Boyer\n",
       "..                 ...               ...\n",
       "66            \"Arcade\"   Duncan Laurence\n",
       "67                  NA                NA\n",
       "68     \"Zitti e buoni\"          Måneskin\n",
       "69          \"Stefania\"  Kalush Orchestra\n",
       "70            \"Tattoo\"            Loreen\n",
       "\n",
       "[71 rows x 2 columns]"
      ]
     },
     "execution_count": 23,
     "metadata": {},
     "output_type": "execute_result"
    }
   ],
   "source": [
    "euro_winners"
   ]
  },
  {
   "cell_type": "code",
   "execution_count": 24,
   "id": "386d2b18",
   "metadata": {},
   "outputs": [],
   "source": [
    "euro_winners= euro_winners.drop([euro_winners.index[67]]).reset_index(drop=True)"
   ]
  },
  {
   "cell_type": "code",
   "execution_count": 25,
   "id": "30813156",
   "metadata": {},
   "outputs": [
    {
     "data": {
      "text/html": [
       "<div>\n",
       "<style scoped>\n",
       "    .dataframe tbody tr th:only-of-type {\n",
       "        vertical-align: middle;\n",
       "    }\n",
       "\n",
       "    .dataframe tbody tr th {\n",
       "        vertical-align: top;\n",
       "    }\n",
       "\n",
       "    .dataframe thead th {\n",
       "        text-align: right;\n",
       "    }\n",
       "</style>\n",
       "<table border=\"1\" class=\"dataframe\">\n",
       "  <thead>\n",
       "    <tr style=\"text-align: right;\">\n",
       "      <th></th>\n",
       "      <th>song</th>\n",
       "      <th>artist</th>\n",
       "    </tr>\n",
       "  </thead>\n",
       "  <tbody>\n",
       "    <tr>\n",
       "      <th>0</th>\n",
       "      <td>Refrain</td>\n",
       "      <td>Lys Assia</td>\n",
       "    </tr>\n",
       "    <tr>\n",
       "      <th>1</th>\n",
       "      <td>Net als toen</td>\n",
       "      <td>Corry Brokken</td>\n",
       "    </tr>\n",
       "    <tr>\n",
       "      <th>2</th>\n",
       "      <td>Dors, mon amour</td>\n",
       "      <td>André Claveau</td>\n",
       "    </tr>\n",
       "    <tr>\n",
       "      <th>3</th>\n",
       "      <td>'n Beetje</td>\n",
       "      <td>Teddy Scholten</td>\n",
       "    </tr>\n",
       "    <tr>\n",
       "      <th>4</th>\n",
       "      <td>Tom Pillibi</td>\n",
       "      <td>Jacqueline Boyer</td>\n",
       "    </tr>\n",
       "    <tr>\n",
       "      <th>...</th>\n",
       "      <td>...</td>\n",
       "      <td>...</td>\n",
       "    </tr>\n",
       "    <tr>\n",
       "      <th>65</th>\n",
       "      <td>Toy</td>\n",
       "      <td>Netta</td>\n",
       "    </tr>\n",
       "    <tr>\n",
       "      <th>66</th>\n",
       "      <td>Arcade</td>\n",
       "      <td>Duncan Laurence</td>\n",
       "    </tr>\n",
       "    <tr>\n",
       "      <th>67</th>\n",
       "      <td>Zitti e buoni</td>\n",
       "      <td>Måneskin</td>\n",
       "    </tr>\n",
       "    <tr>\n",
       "      <th>68</th>\n",
       "      <td>Stefania</td>\n",
       "      <td>Kalush Orchestra</td>\n",
       "    </tr>\n",
       "    <tr>\n",
       "      <th>69</th>\n",
       "      <td>Tattoo</td>\n",
       "      <td>Loreen</td>\n",
       "    </tr>\n",
       "  </tbody>\n",
       "</table>\n",
       "<p>70 rows × 2 columns</p>\n",
       "</div>"
      ],
      "text/plain": [
       "                song            artist\n",
       "0            Refrain         Lys Assia\n",
       "1       Net als toen     Corry Brokken\n",
       "2    Dors, mon amour     André Claveau\n",
       "3          'n Beetje    Teddy Scholten\n",
       "4        Tom Pillibi  Jacqueline Boyer\n",
       "..               ...               ...\n",
       "65               Toy             Netta\n",
       "66            Arcade   Duncan Laurence\n",
       "67     Zitti e buoni          Måneskin\n",
       "68          Stefania  Kalush Orchestra\n",
       "69            Tattoo            Loreen\n",
       "\n",
       "[70 rows x 2 columns]"
      ]
     },
     "execution_count": 25,
     "metadata": {},
     "output_type": "execute_result"
    }
   ],
   "source": [
    "euro_winners['song']=euro_winners['song'].replace('\"','',regex=True)\n",
    "euro_winners"
   ]
  },
  {
   "cell_type": "code",
   "execution_count": 26,
   "id": "99bda9e8",
   "metadata": {},
   "outputs": [],
   "source": [
    "euro_winners.song=euro_winners.song.replace(r'^ | $','',regex=True)"
   ]
  },
  {
   "cell_type": "code",
   "execution_count": 27,
   "id": "9a2ac377",
   "metadata": {},
   "outputs": [
    {
     "data": {
      "text/plain": [
       "False    70\n",
       "Name: artist, dtype: int64"
      ]
     },
     "execution_count": 27,
     "metadata": {},
     "output_type": "execute_result"
    }
   ],
   "source": [
    "euro_winners['artist'].str.startswith(' ').value_counts()"
   ]
  },
  {
   "cell_type": "code",
   "execution_count": 28,
   "id": "ac7be6e5",
   "metadata": {},
   "outputs": [
    {
     "data": {
      "text/plain": [
       "False    70\n",
       "Name: artist, dtype: int64"
      ]
     },
     "execution_count": 28,
     "metadata": {},
     "output_type": "execute_result"
    }
   ],
   "source": [
    "euro_winners['artist'].str.endswith(' ').value_counts()"
   ]
  },
  {
   "cell_type": "code",
   "execution_count": null,
   "id": "978dad77",
   "metadata": {},
   "outputs": [],
   "source": []
  },
  {
   "cell_type": "markdown",
   "id": "566965ea",
   "metadata": {},
   "source": [
    "#### Merging the top 100 and eurovision winners into one dataframe"
   ]
  },
  {
   "cell_type": "code",
   "execution_count": 33,
   "id": "ce84ca79",
   "metadata": {},
   "outputs": [],
   "source": [
    "song_recommend=pd.concat([top100,euro_winners],axis=0)"
   ]
  },
  {
   "cell_type": "code",
   "execution_count": 34,
   "id": "55a464f0",
   "metadata": {},
   "outputs": [
    {
     "name": "stdout",
     "output_type": "stream",
     "text": [
      "(170, 2)\n"
     ]
    },
    {
     "data": {
      "text/plain": [
       "song      0\n",
       "artist    0\n",
       "dtype: int64"
      ]
     },
     "execution_count": 34,
     "metadata": {},
     "output_type": "execute_result"
    }
   ],
   "source": [
    "print(song_recommend.shape)\n",
    "song_recommend.isna().sum() #to check if concat worked correctly"
   ]
  },
  {
   "cell_type": "markdown",
   "id": "bdbac061",
   "metadata": {},
   "source": [
    "#### Saving the dataframe to a csv for building recommendation model"
   ]
  },
  {
   "cell_type": "code",
   "execution_count": null,
   "id": "5c61c23c",
   "metadata": {},
   "outputs": [],
   "source": [
    "song_recommend.to_csv(r'.\\datasets\\top_songs.csv',index=False)"
   ]
  }
 ],
 "metadata": {
  "kernelspec": {
   "display_name": "Python 3 (ipykernel)",
   "language": "python",
   "name": "python3"
  },
  "language_info": {
   "codemirror_mode": {
    "name": "ipython",
    "version": 3
   },
   "file_extension": ".py",
   "mimetype": "text/x-python",
   "name": "python",
   "nbconvert_exporter": "python",
   "pygments_lexer": "ipython3",
   "version": "3.11.3"
  }
 },
 "nbformat": 4,
 "nbformat_minor": 5
}
